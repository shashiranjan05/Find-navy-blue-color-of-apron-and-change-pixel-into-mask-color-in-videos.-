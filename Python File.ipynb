{
 "cells": [
  {
   "cell_type": "markdown",
   "metadata": {},
   "source": [
    "# Wobot Intelligence\n",
    "### Instructions\n",
    "This is a test for basic python and algorithmic knowledge.\n",
    "1. All code is to be written in Python or C++.\n",
    "2. Dataset is provided to you for the questions which require data."
   ]
  },
  {
   "cell_type": "markdown",
   "metadata": {},
   "source": [
    "### Q.1. The Knapsack problem\n",
    "You have a bag with a fixed carrying capacity and there are some items of different values infront of you. The items have different weights and you can either choose to select an item or not select it.\n",
    "\n",
    "You want to select the items having maximum value without exceeding the weight carrying capacity of the bag. \n",
    "\n",
    "\n",
    "Knapsack.txt has the following format\n",
    "<pre>\n",
    "|number of items| |Capacity of bag|\n",
    "|Value of item 1| |Weight of item 1|\n",
    "|Value of item 2| |Weight of item 2|\n",
    "...\n",
    "|Value of item n| |Weight of item n|\n",
    "\n",
    "</pre>\n",
    "<b>To Do</b>:\n",
    "\n",
    "Write an algorithm to read the data from the file and return the maximum value which is possible by selecting the items such that the weight of the items is less than or equal to the capacity of the bag. The output should also print the items selected (see example below)\n",
    "\n",
    "Mathematically:\n",
    "\n",
    "$$ maximize \\ \\  \\Sigma x_i v_i$$\n",
    "$$ given \\ \\ \\Sigma x_i w_i \\leq C$$\n",
    "$$ x_i \\in \\{0,1\\}$$\n",
    "\n",
    "\n",
    "Example:\n",
    "\n",
    "<b>Input:</b>\n",
    "\n",
    "Kanpsack.txt\n",
    "<pre>\n",
    "3 10\n",
    "5 3\n",
    "8 8\n",
    "6 6\n",
    "</pre>\n",
    "\n",
    "<b>Output:</b>\n",
    "<pre>\n",
    "11\n",
    "1 0 1\n",
    "</pre>"
   ]
  },
  {
   "cell_type": "code",
   "execution_count": 45,
   "metadata": {},
   "outputs": [
    {
     "name": "stdout",
     "output_type": "stream",
     "text": [
      "19\n"
     ]
    }
   ],
   "source": [
    "# Write your code here\n",
    "f = open(\"D:\\Hack\\wobot_test\\Knapsack.txt\", \"r\")\n",
    "\n",
    "lines=f.readlines()\n",
    "noOfItems=[]\n",
    "capacityOfBag=[]\n",
    "\n",
    "for x in lines:\n",
    "    noOfItems.append(x.split(' ')[0])\n",
    "    capacityOfBag.append(x.split(' ')[1])\n",
    "#print(noOfItems,\" \",capacityOfBag)\n",
    "\n",
    "f.close()\n",
    "for n in range(len(noOfItems)):\n",
    "    noOfItems[n]=int(noOfItems[n])\n",
    "for c in range(len(capacityOfBag)):\n",
    "    capacityOfBag[c]=int(capacityOfBag[c])\n",
    "\n",
    "def knapSack(W, wt, val, n): \n",
    "    K = [[0 for x in range(W + 1)] for x in range(n + 1)] \n",
    "  \n",
    "    for i in range(n + 1): \n",
    "        for w in range(W + 1): \n",
    "            if i == 0 or w == 0: \n",
    "                K[i][w] = 0\n",
    "            elif wt[i-1] <= w: \n",
    "                K[i][w] = max(val[i-1] + K[i-1][w-wt[i-1]],  K[i-1][w]) \n",
    "            else: \n",
    "                K[i][w] = K[i-1][w] \n",
    "  \n",
    "    return K[n][W] \n",
    "  \n",
    "#take weight\n",
    "Weight = 11\n",
    "length = len(capacityOfBag) \n",
    "print(knapSack(Weight, capacityOfBag, noOfItems, length)) "
   ]
  },
  {
   "cell_type": "markdown",
   "metadata": {},
   "source": [
    "### Q.2. Color extraction\n",
    "Write python code to extract the pixels of the uniform (navy blue color and light blue color) of the person in the video (Mopping.mp4). Save output as video with only the uniform pixels in white and remaining pixels in black.\n",
    "\n",
    "Hint: See HSV Filter"
   ]
  },
  {
   "cell_type": "code",
   "execution_count": 57,
   "metadata": {},
   "outputs": [],
   "source": [
    "# Write your code here\n",
    "import cv2\n",
    "import numpy as np\n",
    "import os\n",
    "import sys\n",
    "\n",
    "cap = cv2.VideoCapture('D:\\Hack\\wobot_test\\mopping.mp4')\n",
    "count=0\n",
    "img_array=[]\n",
    "\n",
    "while(1):\n",
    "    _, frame = cap.read()\n",
    "    count+=1\n",
    "    try:\n",
    "        hsv = cv2.cvtColor(frame, cv2.COLOR_BGR2HSV)\n",
    "        pixelval=frame[343,209]\n",
    "        pixelvalues=frame[284,328]\n",
    "       \n",
    "\n",
    "        navyBlue = np.array([83, 62 ,43])\n",
    "        lightBlue = np.array([255, 255 ,255])\n",
    "\n",
    "        mask = cv2.inRange(hsv, navyBlue, lightBlue)\n",
    "        res = cv2.bitwise_and(frame,frame, mask= mask)\n",
    "    \n",
    "        #write all frames \n",
    "        cv2.imwrite('D:\\\\Hack\\\\wobot_test\\\\VideoImages\\\\'+str(count)+'.png',mask)\n",
    "        #cv2.imwrite('D:\\Hack\\wobot_test\\VideoImages\\'+ count +'.png',mask)\n",
    "        cv2.imshow('frame',frame)\n",
    "        cv2.imshow('mask',mask)\n",
    "        cv2.imshow('res',res)\n",
    "       \n",
    "\n",
    "        k = cv2.waitKey(5) & 0xFF\n",
    "        if k == 27:\n",
    "            break\n",
    "    except:\n",
    "        break\n",
    "        \n",
    "\n",
    "    \n"
   ]
  },
  {
   "cell_type": "code",
   "execution_count": 58,
   "metadata": {},
   "outputs": [],
   "source": [
    "#for saving video from frames\n",
    "img_array = []\n",
    "inputpath='D:/Hack/wobot_test/VideoImages'\n",
    "listVal = os.listdir(inputpath) # dir is your directory path\n",
    "number_files = len(listVal)\n",
    "\n",
    "for i in range(1,number_files):\n",
    "    img = cv2.imread(os.path.join(inputpath,str(i)+'.png'))\n",
    "    height, width, layers = img.shape\n",
    "    size = (width,height)\n",
    "    img_array.append(img)\n",
    " \n",
    " \n",
    "out = cv2.VideoWriter('D:/Hack/wobot_test/project.avi',cv2.VideoWriter_fourcc(*'DIVX'), 30, size)\n",
    " \n",
    "for j in range(len(img_array)):\n",
    "    out.write(img_array[j])\n",
    "out.release()\n"
   ]
  },
  {
   "cell_type": "markdown",
   "metadata": {},
   "source": [
    "### Q.3. Radius Estimation\n",
    "Find the radius of the circle (in pixels) from the image 'circle.png'."
   ]
  },
  {
   "cell_type": "code",
   "execution_count": 51,
   "metadata": {},
   "outputs": [
    {
     "name": "stdout",
     "output_type": "stream",
     "text": [
      "87\n"
     ]
    }
   ],
   "source": [
    "# Write your code here\n",
    "import cv2\n",
    "import numpy as np\n",
    "image =cv2.imread('D:\\Hack\\wobot_test\\circle.png')\n",
    "output = image.copy()\n",
    "gray = cv2.cvtColor(image, cv2.COLOR_BGR2GRAY)\n",
    "circles = cv2.HoughCircles(gray, cv2.HOUGH_GRADIENT, 1.2, 100)\n",
    "circles = np.round(circles[0, :]).astype(\"int\")\n",
    "radius = circles[0][2]\n",
    "print(radius)"
   ]
  },
  {
   "cell_type": "markdown",
   "metadata": {},
   "source": [
    "### Q.4. Edge detection\n",
    "Take the 'circle.png' image and find the edges using any method (laplacian or canny edge detector). Save/Show the output image."
   ]
  },
  {
   "cell_type": "code",
   "execution_count": 53,
   "metadata": {},
   "outputs": [
    {
     "data": {
      "text/plain": [
       "True"
      ]
     },
     "execution_count": 53,
     "metadata": {},
     "output_type": "execute_result"
    }
   ],
   "source": [
    "# Write your code here\n",
    "import cv2\n",
    "image =cv2.imread('D:\\Hack\\wobot_test\\circle.png')\n",
    "\n",
    "res = cv2.bitwise_and(image,image) \n",
    "#edge detector\n",
    "edges = cv2.Canny(res,100,200)\n",
    "cv2.imwrite('D:\\Hack\\wobot_test\\EdgeOfcircles.png',edges)"
   ]
  },
  {
   "cell_type": "code",
   "execution_count": null,
   "metadata": {},
   "outputs": [],
   "source": []
  }
 ],
 "metadata": {
  "kernelspec": {
   "display_name": "Python 3",
   "language": "python",
   "name": "python3"
  },
  "language_info": {
   "codemirror_mode": {
    "name": "ipython",
    "version": 3
   },
   "file_extension": ".py",
   "mimetype": "text/x-python",
   "name": "python",
   "nbconvert_exporter": "python",
   "pygments_lexer": "ipython3",
   "version": "3.6.4"
  }
 },
 "nbformat": 4,
 "nbformat_minor": 2
}
