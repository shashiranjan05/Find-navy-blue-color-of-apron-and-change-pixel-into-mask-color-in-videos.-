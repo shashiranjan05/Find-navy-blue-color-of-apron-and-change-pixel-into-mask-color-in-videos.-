{
 "cells": [
  {
   "cell_type": "markdown",
   "metadata": {},
   "source": [
    "# Wobot Intelligence\n",
    "### Instructions\n",
    "This is a test for basic python and algorithmic knowledge.\n",
    "1. All code is to be written in Python or C++.\n",
    "2. Dataset is provided to you for the questions which require data."
   ]
  },
  {
   "cell_type": "markdown",
   "metadata": {},
   "source": [
    "### Q.1. The Knapsack problem\n",
    "You have a bag with a fixed carrying capacity and there are some items of different values infront of you. The items have different weights and you can either choose to select an item or not select it.\n",
    "\n",
    "You want to select the items having maximum value without exceeding the weight carrying capacity of the bag. \n",
    "\n",
    "\n",
    "Knapsack.txt has the following format\n",
    "<pre>\n",
    "|number of items| |Capacity of bag|\n",
    "|Value of item 1| |Weight of item 1|\n",
    "|Value of item 2| |Weight of item 2|\n",
    "...\n",
    "|Value of item n| |Weight of item n|\n",
    "\n",
    "</pre>\n",
    "<b>To Do</b>:\n",
    "\n",
    "Write an algorithm to read the data from the file and return the maximum value which is possible by selecting the items such that the weight of the items is less than or equal to the capacity of the bag. The output should also print the items selected (see example below)\n",
    "\n",
    "Mathematically:\n",
    "\n",
    "$$ maximize \\ \\  \\Sigma x_i v_i$$\n",
    "$$ given \\ \\ \\Sigma x_i w_i \\leq C$$\n",
    "$$ x_i \\in \\{0,1\\}$$\n",
    "\n",
    "\n",
    "Example:\n",
    "\n",
    "<b>Input:</b>\n",
    "\n",
    "Kanpsack.txt\n",
    "<pre>\n",
    "3 10\n",
    "5 3\n",
    "8 8\n",
    "6 6\n",
    "</pre>\n",
    "\n",
    "<b>Output:</b>\n",
    "<pre>\n",
    "11\n",
    "1 0 1\n",
    "</pre>"
   ]
  },
  {
   "cell_type": "code",
   "execution_count": 1,
   "metadata": {},
   "outputs": [],
   "source": [
    "# Write your code here"
   ]
  },
  {
   "cell_type": "markdown",
   "metadata": {},
   "source": [
    "### Q.2. Color extraction\n",
    "Write python code to extract the pixels of the uniform (navy blue color and light blue color) of the person in the video (Mopping.mp4). Save output as video with only the uniform pixels in white and remaining pixels in black.\n",
    "\n",
    "Hint: See HSV Filter"
   ]
  },
  {
   "cell_type": "code",
   "execution_count": 2,
   "metadata": {},
   "outputs": [],
   "source": [
    "# Write your code here"
   ]
  },
  {
   "cell_type": "markdown",
   "metadata": {},
   "source": [
    "### Q.3. Radius Estimation\n",
    "Find the radius of the circle (in pixels) from the image 'circle.png'."
   ]
  },
  {
   "cell_type": "code",
   "execution_count": 3,
   "metadata": {},
   "outputs": [],
   "source": [
    "# Write your code here"
   ]
  },
  {
   "cell_type": "markdown",
   "metadata": {},
   "source": [
    "### Q.4. Edge detection\n",
    "Take the 'circle.png' image and find the edges using any method (laplacian or canny edge detector). Save/Show the output image."
   ]
  },
  {
   "cell_type": "code",
   "execution_count": null,
   "metadata": {},
   "outputs": [],
   "source": [
    "# Write your code here"
   ]
  }
 ],
 "metadata": {
  "kernelspec": {
   "display_name": "Python 3",
   "language": "python",
   "name": "python3"
  },
  "language_info": {
   "codemirror_mode": {
    "name": "ipython",
    "version": 3
   },
   "file_extension": ".py",
   "mimetype": "text/x-python",
   "name": "python",
   "nbconvert_exporter": "python",
   "pygments_lexer": "ipython3",
   "version": "3.6.5"
  }
 },
 "nbformat": 4,
 "nbformat_minor": 2
}
